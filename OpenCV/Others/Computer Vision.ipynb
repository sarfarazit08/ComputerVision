{
 "cells": [
  {
   "cell_type": "markdown",
   "metadata": {},
   "source": [
    "# Computer Vision - A Comprehensive Guideline"
   ]
  },
  {
   "cell_type": "markdown",
   "metadata": {},
   "source": [
    "### Hello OpenCV"
   ]
  },
  {
   "cell_type": "code",
   "execution_count": 7,
   "metadata": {},
   "outputs": [],
   "source": [
    "import cv2\n",
    "import numpy as np\n",
    "\n",
    "img = np.zeros((320,640,3), np.uint8)\n",
    "img[:] = 125,125,125\n",
    "\n",
    "tx_start = (80,160)\n",
    "tx_font = cv2.FONT_HERSHEY_COMPLEX\n",
    "tx_color = (255, 255, 0)\n",
    "tx_fontScale = 2\n",
    "tx_thickness = 2\n",
    "cv2.putText(img, \"Hello OpenCV\", tx_start, tx_font,\n",
    "tx_fontScale, tx_color, tx_thickness)\n",
    "\n",
    "cv2.imshow(\"Hello\", img)\n",
    "cv2.waitKey(0)\n",
    "cv2.destroyAllWindows()"
   ]
  },
  {
   "cell_type": "markdown",
   "metadata": {},
   "source": [
    "### Load Color Images"
   ]
  },
  {
   "cell_type": "code",
   "execution_count": 8,
   "metadata": {},
   "outputs": [],
   "source": [
    "import cv2\n",
    "img = cv2.imread(\"../images/image.jpg\")\n",
    "cv2.imshow(\"Image\", img)\n",
    "cv2.waitKey(0)\n",
    "cv2.destroyAllWindows()"
   ]
  },
  {
   "cell_type": "markdown",
   "metadata": {},
   "source": [
    "### Load Grayscale Images"
   ]
  },
  {
   "cell_type": "code",
   "execution_count": 10,
   "metadata": {},
   "outputs": [],
   "source": [
    "import cv2\n",
    "img = cv2.imread(\"../images/image.jpg\", cv2.IMREAD_GRAYSCALE)\n",
    "cv2.imshow(\"Image\", img)\n",
    "cv2.waitKey(0)\n",
    "cv2.destroyAllWindows()\n"
   ]
  },
  {
   "cell_type": "markdown",
   "metadata": {},
   "source": [
    "### Convert Color Image to Grayscale"
   ]
  },
  {
   "cell_type": "code",
   "execution_count": 11,
   "metadata": {},
   "outputs": [],
   "source": [
    "import cv2\n",
    "\n",
    "img = cv2.imread(\"../images/image.jpg\")\n",
    "\n",
    "gray = cv2.cvtColor(img, cv2.COLOR_BGR2GRAY)\n",
    "\n",
    "cv2.imshow(\"Image\", img)\n",
    "cv2.imshow(\"Image Gray\", gray)\n",
    "cv2.waitKey(0)\n",
    "cv2.destroyAllWindows()"
   ]
  },
  {
   "cell_type": "markdown",
   "metadata": {},
   "source": [
    "### Load and Display Videos"
   ]
  },
  {
   "cell_type": "code",
   "execution_count": 12,
   "metadata": {},
   "outputs": [],
   "source": [
    "# Show a video from local file\n",
    "\n",
    "import cv2\n",
    "\n",
    "cap = cv2.VideoCapture(\"../videos/video.mp4\")\n",
    "\n",
    "success, img = cap.read()\n",
    "while success:\n",
    "    cv2.imshow(\"Video\", img)\n",
    "    # Press ESC key to break the loop\n",
    "    if cv2.waitKey(15) & 0xFF == 27:\n",
    "        break\n",
    "    success, img = cap.read()\n",
    "    cap.release()\n",
    "    cv2.waitKey(0)\n",
    "    cv2.destroyWindow(\"Video\")"
   ]
  },
  {
   "cell_type": "markdown",
   "metadata": {},
   "source": [
    "### Display Webcam"
   ]
  },
  {
   "cell_type": "code",
   "execution_count": 14,
   "metadata": {},
   "outputs": [],
   "source": [
    "import cv2\n",
    "\n",
    "cap = cv2.VideoCapture(0) \n",
    "# read from default webcam\n",
    "# Set video properties\n",
    "cap.set(cv2.CAP_PROP_FRAME_WIDTH, 640) \n",
    "# set width\n",
    "\n",
    "cap.set(cv2.CAP_PROP_FRAME_HEIGHT, 480) \n",
    "# set height\n",
    "\n",
    "cap.set(cv2.CAP_PROP_BRIGHTNESS, 180) \n",
    "# set brightness\n",
    "\n",
    "cap.set(cv2.CAP_PROP_CONTRAST, 50) \n",
    "# set contrast\n",
    "\n",
    "success, img = cap.read()\n",
    "while success:\n",
    "    cv2.imshow(\"Webcam\", img)\n",
    "\n",
    "    # Press ESC key to break the loop\n",
    "    if cv2.waitKey(10) & 0xFF == 27:\n",
    "        break\n",
    "    success, img = cap.read()\n",
    "\n",
    "    cap.release()\n",
    "    cv2.waitKey(0)\n",
    "    cv2.destroyWindow(\"Webcam\")\n"
   ]
  },
  {
   "cell_type": "markdown",
   "metadata": {},
   "source": [
    "### Create an Empty Canvas"
   ]
  },
  {
   "cell_type": "code",
   "execution_count": 17,
   "metadata": {},
   "outputs": [],
   "source": [
    "import cv2\n",
    "import numpy as np\n",
    "\n",
    "canvas = np.zeros((380, 480, 3), np.uint8)\n",
    "\n",
    "canvas[:] = 127,127,127\n",
    "\n",
    "cv2.imshow(\"Canvas\", canvas)\n",
    "cv2.waitKey(0)\n",
    "cv2.destroyAllWindows()"
   ]
  },
  {
   "cell_type": "markdown",
   "metadata": {},
   "source": [
    "Draw a Line On Canvas"
   ]
  },
  {
   "cell_type": "code",
   "execution_count": 31,
   "metadata": {},
   "outputs": [],
   "source": [
    "def draw_line(image, start, end, color=(255,255,255), thickness=1,  line_type=cv2.LINE_AA):\n",
    "    cv2.line(image, start, end, color, 1, cv2.LINE_AA)\n",
    "\n",
    "# Draw a line\n",
    "draw_line(canvas,  start=(100, 100),  end=(canvas.shape[1]-100, canvas.shape[0]-100),  color=(155, 10, 10), thickness=5)\n",
    "cv2.imshow(\"Canvas\", canvas)\n",
    "cv2.waitKey(0)\n",
    "cv2.destroyAllWindows()"
   ]
  },
  {
   "cell_type": "markdown",
   "metadata": {},
   "source": [
    "Draw Rectangles"
   ]
  },
  {
   "cell_type": "code",
   "execution_count": 32,
   "metadata": {},
   "outputs": [],
   "source": [
    "def draw_rectangle(image, top_left, bottom_right, color=(255,255,255), thickness=1, line_type=cv2.LINE_AA):\n",
    "    cv2.rectangle(image, top_left,  bottom_right, color, thickness, line_type)\n",
    "\n",
    "# Draw Rectangles\n",
    "draw_rectangle(canvas,  top_left=(100, 100),  bottom_right=(canvas.shape[1]-100, canvas.shape[0]-100),  color=(250, 10, 10), thickness=3)\n",
    "\n",
    "cv2.imshow(\"Canvas\", canvas)\n",
    "cv2.waitKey(0)\n",
    "cv2.destroyAllWindows()"
   ]
  },
  {
   "cell_type": "markdown",
   "metadata": {},
   "source": [
    "\n"
   ]
  },
  {
   "cell_type": "code",
   "execution_count": null,
   "metadata": {},
   "outputs": [],
   "source": []
  }
 ],
 "metadata": {
  "kernelspec": {
   "display_name": "Python 3",
   "language": "python",
   "name": "python3"
  },
  "language_info": {
   "codemirror_mode": {
    "name": "ipython",
    "version": 3
   },
   "file_extension": ".py",
   "mimetype": "text/x-python",
   "name": "python",
   "nbconvert_exporter": "python",
   "pygments_lexer": "ipython3",
   "version": "3.11.4"
  },
  "orig_nbformat": 4
 },
 "nbformat": 4,
 "nbformat_minor": 2
}
